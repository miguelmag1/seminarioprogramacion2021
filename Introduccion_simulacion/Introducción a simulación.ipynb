{
 "cells": [
  {
   "cell_type": "markdown",
   "metadata": {},
   "source": [
    "<div style=\"padding: -5px;\n",
    "  text-align: center;\n",
    "  color: white;\n",
    "  font-size: 15px;\">\n",
    "   <img src=\"images/banner.jpg\" alt=\"MINE-Seminario de programación\" style=\"width:100%;\">\n",
    "  <h1 style=\"\n",
    "  position: absolute;\n",
    "  top: 5%;\n",
    "  left: 50%;\">Introducción a la simulación</h1>\n",
    "</div>"
   ]
  },
  {
   "cell_type": "markdown",
   "metadata": {},
   "source": [
    "\n",
    "La consecución de datos en ocasiones resulta ser una tarea titánica o improbable. Por ejemplo, si quisiéramos establecer la mejor estrategia de negocios para vender aguacates en el exterior nos vemos enfrentados a reconocer que la volatilidad del peso frente a las monedas extranjeras no permite que conozcamos un valor exacto de los ingresos, en este caso, los datos de proyección estarían condicionados al comportamiento de la moneda y es improbable que sepamos con exactitud como se vendería el aguacate así conozcamos de antemano las cantidades demandadas. Ahora bien, también se asumen riesgos de transporte y colocación del producto, seguramente una parte de la entrega no llegará en condiciones óptimas y habrá una pérdida según la negociación. En este caso es poco probable tener una idea de las pérdidas que se tendrán o la volatilidad del peso, entonces ¿Cómo aseguramos una proyección de ingreso?\n",
    "\n",
    "La probabilidad es la respuesta, dependemos de un tipo de modelos que no procuran una respuesta directa, sino que van asociados a una incertidumbre generada por varios tipos de errores o por el desconocimiento de todas las variables o simplemente, por si trabaja en física cuántica, por la aleatoriedad intrínseca en la naturaleza. En el caso de nuestro problema, no consideramos una sola solución o un único devenir de nuestro asunto, más bien consideramos muchos escenarios y a partir de distribuciones de probabilidad, escogidas de acuerdo con la situación que planteamos, establecemos un rango de posibilidades en el que estará nuestra solución.\n",
    "\n",
    "Este ojo de Agamotto fue presentado por primera vez en 1949 por el matemático prominente con un único defecto, John Von Neumman y el exponente polaco Stanislaw Ulam como la simulación de Montecarlo. Un método para aproximar soluciones a partir de la generación de números aleatorios. En este cuaderno veremos como generar esos números y algunos elementos conceptuales alrededor de las aplicaciones de estos métodos. Posteriormente veremos otro tipo de simulación un poco más sofisticada asociada a agentes."
   ]
  },
  {
   "cell_type": "code",
   "execution_count": 29,
   "metadata": {},
   "outputs": [],
   "source": [
    "# Paquetes\n",
    "import numpy as np\n",
    "import scipy.stats as ss\n",
    "import matplotlib.pyplot as plt\n",
    "%matplotlib inline"
   ]
  },
  {
   "cell_type": "markdown",
   "metadata": {
    "pycharm": {
     "name": "#%% md\n"
    }
   },
   "source": [
    "## Distribuciones de probabilidad\n",
    "\n",
    "Recordemos que una distribución de probabilidad es una función, que asigna a cada suceso que representa la variable la probabilidad de que éste ocurra.\n",
    "\n",
    "Las distribuciones de probabilidad se pueden agrupar según el tipo de variable que se está estudiando\n",
    "\n",
    "**Para variables aleatorias discretas**\n",
    "Tengamos presente que las variables aleatorias discretas son aquellas que representan una cantidad *contable* de sucesos.\n",
    "\n",
    "### Distribución binomial\n",
    "La distribución binomial se caracteriza por tener un experimento con dos posibles resultados, *éxito* con probabilidad de ocurrencia $p$, y *fracaso* con probabilidad $1-p$, el cual se repite $n$ veces de manera independiente.\n",
    "\n",
    "Para representar que una variable aleatoria $X$ sigue una distribución binomial de parámetros $n$ y $p$, se escribe:\n",
    "\n",
    "$${\\displaystyle X\\sim B(n,p)\\,}$$\n",
    "\n",
    "Su función de probabilidad es:\n",
    "$${\\displaystyle \\!f(x)={n \\choose x}p^{x}(1-p)^{n-x},\\,\\,\\,\\,0\\leq p\\leq 1}$$\n",
    "donde ${\\displaystyle x=\\{0,1,2,\\dots ,n\\},}$\n"
   ]
  },
  {
   "cell_type": "markdown",
   "metadata": {},
   "source": [
    "**Ejemplo**\n",
    "\n",
    "Supongamos que se lanza un dado equilibrado (de 6 caras) 60 veces y queremos conocer la probabilidad de que el número 2 salga 10 veces.\n",
    "\n",
    "Un ensayo de nuestro problema consiste en lanzar el dado una vez, si se considera como éxito obtener un 3 y fracaso si no sale 3. Definiendo $X:=$ el número de veces que se obtiene un 2 en 60 lanzamientos.\n",
    "\n",
    "De lo anterior se puede afirmar que $X \\sim B(60, 1/6)$ y la probabilidad a calcular es $P(X=10)$:\n",
    "\n",
    "$${\\displaystyle \\!P(X=10)={60\\choose 10}(1/6)^{10}(1-1/6)^{60-10}=0.0000744\\,\\!}\\approx0.137013.$$\n",
    "\n",
    "Para utilizar ésta y las demás distribuciones de probabilidad en Python debemos trener presente lo siguiente:\n",
    "\n",
    "Se trabajará con el paquete `scipy.stats`, principalmente con las funciones: \n",
    "\n",
    "`cdf(x)`: Función de distribución F(X)\n",
    "\n",
    "`sf(x)`: 1 - cdf(x)\n",
    "\n",
    "`pmf(x)`: Función de probabilidad f(x) (distribuciones discretas)\n",
    "\n",
    "`pdf(x)`: Función de densidad f(x) (distribuciones continuas)\n",
    "\n",
    "`ppf(x)`: Función inversa a cdf(x). Nos permite obtener el valor correspondiente a una probabilidad.\n",
    "\n",
    "Para resolver el problema anterior con el uso de Python debemos seguir los siguientes pasos:"
   ]
  },
  {
   "cell_type": "code",
   "execution_count": 35,
   "metadata": {},
   "outputs": [],
   "source": [
    "X = ss.binom(1000,1/6)"
   ]
  },
  {
   "cell_type": "code",
   "execution_count": 36,
   "metadata": {},
   "outputs": [
    {
     "data": {
      "text/plain": [
       "1.7769918774316006e-63"
      ]
     },
     "execution_count": 36,
     "metadata": {},
     "output_type": "execute_result"
    }
   ],
   "source": [
    "X.pmf(10)"
   ]
  },
  {
   "cell_type": "code",
   "execution_count": 4,
   "metadata": {},
   "outputs": [],
   "source": [
    "X60= ss.binom(1,1/6)"
   ]
  },
  {
   "cell_type": "code",
   "execution_count": 5,
   "metadata": {},
   "outputs": [
    {
     "data": {
      "text/plain": [
       "0.13701311426747098"
      ]
     },
     "execution_count": 5,
     "metadata": {},
     "output_type": "execute_result"
    }
   ],
   "source": [
    "X60.pmf(10)"
   ]
  },
  {
   "cell_type": "markdown",
   "metadata": {},
   "source": [
    "Es decir la probabilidad es del 13.70%"
   ]
  },
  {
   "cell_type": "markdown",
   "metadata": {},
   "source": [
    "#### Números aleatorios a partir de la binomial\n",
    "\n",
    "En este apartado usaremos numpy.random para generar una sucesión de 1000 números que se escogen según una distribución binomial. En este sentido, resolveremos el problema anterior a partir de esa escogencia.\n"
   ]
  },
  {
   "cell_type": "code",
   "execution_count": 6,
   "metadata": {},
   "outputs": [],
   "source": [
    "bin_rand=np.random.binomial(60,1/6,size=1000)"
   ]
  },
  {
   "cell_type": "markdown",
   "metadata": {},
   "source": [
    "**Ejercicio 1**\n",
    "\n",
    "Crear un programa para estudiar la distribución en el arreglo anterior. Un histograma es uti, sin embargo como la distribución es discreta es util calcular una tabla de frecuencias.\n",
    "\n",
    "```Python\n",
    "#recomendaciones\n",
    "\n",
    "np.count_nonzero()\n",
    "np.unique()\n",
    "np.sum()\n",
    "```"
   ]
  },
  {
   "cell_type": "code",
   "execution_count": 7,
   "metadata": {},
   "outputs": [
    {
     "data": {
      "text/plain": [
       "array([ 1,  2,  3,  4,  5,  6,  7,  8,  9, 10, 11, 12, 13, 14, 15, 16, 17,\n",
       "       18, 19, 22])"
      ]
     },
     "execution_count": 7,
     "metadata": {},
     "output_type": "execute_result"
    }
   ],
   "source": [
    "np.random.seed(2021) #semilla\n",
    "bin_rand=np.random.binomial(60,1/6,size=1000)\n",
    "np.unique(bin_rand)"
   ]
  },
  {
   "cell_type": "code",
   "execution_count": 8,
   "metadata": {},
   "outputs": [
    {
     "data": {
      "text/plain": [
       "array([11, 12,  7,  9, 19,  7,  7, 12, 11, 12,  6,  6, 15, 11,  6, 10, 11,\n",
       "       15, 10,  9, 10,  8, 10,  7, 11, 10, 10, 13, 12,  6, 11, 11, 13,  8,\n",
       "       11, 11,  8, 13, 11, 16,  9,  7, 10,  9, 14, 12, 14, 11, 11,  9, 13,\n",
       "        8,  8,  8,  8, 11,  7,  9, 11, 13,  6,  9,  9, 12, 10, 12,  6, 13,\n",
       "       12, 12,  6, 11, 12,  8,  9, 13, 11, 12,  9,  9,  9,  8, 11, 10, 16,\n",
       "        9,  9, 16, 13,  8, 13, 10, 12, 13, 10, 10, 11,  9, 11, 10,  7, 16,\n",
       "       10,  7, 13,  7,  8, 11, 12,  7,  9, 12, 13, 12, 13,  8,  7, 11, 12,\n",
       "        7,  8,  9, 10, 11, 12,  6,  8, 11, 14, 12, 13, 11, 11, 13, 11, 13,\n",
       "        9, 11, 14,  6, 11,  6,  8, 13, 10, 12, 13, 12, 11, 10, 12,  5,  9,\n",
       "       15, 15, 11, 12,  7, 11,  6, 11,  9,  9, 13, 12,  4, 12, 14, 15,  6,\n",
       "       11,  9,  9, 10, 11,  9,  8, 11, 11,  8, 10,  7, 18,  8, 12, 10, 11,\n",
       "       11, 12, 12,  8,  9,  3,  9, 14, 12,  9,  6,  8, 11,  4,  7, 10, 14,\n",
       "       13,  8, 11,  8,  8, 11,  5, 14,  6, 13,  9,  9, 11,  7,  8,  9,  9,\n",
       "        9,  8, 12,  8,  8, 13, 11,  8, 10, 10, 10,  9, 10, 13, 13, 22, 17,\n",
       "       11,  9, 10, 14,  9,  8, 14, 11, 13,  9, 12, 15, 11, 16, 10,  7, 10,\n",
       "        6, 12,  7, 10, 12, 10,  8,  7,  5, 11, 10, 11, 11,  8,  7,  6,  7,\n",
       "       13,  7,  9, 10, 11, 13, 12, 11, 13, 11,  9,  6,  4, 15,  7, 16,  6,\n",
       "       13,  8,  8, 13,  9,  8, 10,  9, 13, 15, 10,  8,  7,  7,  8, 13, 10,\n",
       "        8,  5, 12,  9,  7, 16, 10, 12, 17, 10, 11, 16, 14, 11, 12, 10, 11,\n",
       "       11,  4,  9,  9, 12,  9,  5, 14, 13,  5,  9,  9, 10, 15,  7,  9,  8,\n",
       "        6, 11,  9, 11, 11,  9, 14, 13, 10, 10,  7, 10,  7, 10,  8,  8,  9,\n",
       "        7, 11, 12,  8,  6, 10,  9, 12, 11,  4, 14,  9,  8, 11,  6,  5, 13,\n",
       "        9,  7, 10, 14,  7,  8,  9,  7,  8, 11,  7,  7, 19, 13, 13, 14,  9,\n",
       "        7, 11,  8, 14,  8,  9, 14, 10, 11,  8,  8, 12, 11, 18, 10,  6,  6,\n",
       "        6,  5, 11,  8,  9,  9, 11, 12,  9, 11, 12, 10,  9,  7, 14, 10,  9,\n",
       "       12, 17, 10, 14, 11, 14, 10,  8, 11,  8, 10,  7,  9,  4, 11, 10, 14,\n",
       "        8, 15,  7, 10,  9,  7, 10,  8, 12, 10,  7, 11, 12,  9,  9, 11,  7,\n",
       "       16, 17, 12,  8,  9, 10,  4,  9,  8,  9, 17,  5, 12, 11, 13, 11, 12,\n",
       "       12,  9,  9, 12, 10, 12,  8,  7,  9,  8,  9,  6,  8, 12, 14, 13, 11,\n",
       "       13,  9, 13,  3, 13,  8, 11, 13,  7,  9,  8,  8, 10, 10,  7, 13, 11,\n",
       "       13, 11,  5,  9, 11, 10, 12,  7,  8, 10,  8, 13, 10, 14, 12, 11,  5,\n",
       "        6,  7, 14, 10,  7, 10,  6, 10,  8, 16, 11, 11, 10,  7,  8,  7, 13,\n",
       "        6, 10, 11, 10,  6, 12, 18,  8,  8, 13, 13, 11, 12, 10,  8,  9,  9,\n",
       "       12, 10, 10,  9,  6, 10, 10, 12,  8, 13, 11, 13, 11,  9,  7, 10,  8,\n",
       "        4, 11,  6,  8,  6, 10,  7, 10,  8, 10, 12, 13, 15, 11,  7,  8,  7,\n",
       "        8,  6, 12,  9, 10, 11,  6, 11, 11,  8,  4,  7,  9, 15, 11, 11, 12,\n",
       "        7,  4,  9, 12, 12,  7,  5, 17, 10, 10, 10, 10, 11, 12, 12, 10, 14,\n",
       "        8, 15,  8,  7,  8, 11,  8,  9,  8,  9,  4, 14,  9, 10, 10, 13,  7,\n",
       "        6, 13, 11,  9,  8, 13, 11,  8,  7,  5,  5, 17, 12,  5, 10,  9, 13,\n",
       "       12, 11,  7, 11, 11,  9, 12,  9, 14,  8, 16,  7, 14,  6, 11,  8,  7,\n",
       "        8, 12,  7, 16,  9,  8,  9, 12,  5, 11,  7, 12,  9,  6, 11,  6, 12,\n",
       "        8,  8, 12,  9, 11,  8,  8,  7, 11, 12, 16, 12,  8, 13, 14,  6, 13,\n",
       "       10,  9,  7, 13,  9,  7, 12,  8,  7,  7, 12, 12, 12, 12, 17,  6, 12,\n",
       "       14, 11,  5,  9,  7,  6, 10,  9,  7,  8,  8, 13,  5, 12,  6,  7,  9,\n",
       "        9,  5, 14, 10,  9,  8, 14, 12,  9,  7,  8, 13,  9, 12, 11, 12,  6,\n",
       "        6, 12,  6, 12,  9, 15, 14, 17,  9, 13, 15, 12, 18,  8, 10, 10,  9,\n",
       "        6, 13,  6, 12, 11, 12, 10,  9,  8,  6, 11, 12, 13, 14, 10,  7, 12,\n",
       "       15, 10, 10, 16,  9,  8, 12, 10, 18,  7, 13, 10, 11,  7,  6, 11, 11,\n",
       "       12, 12,  3,  6, 10,  9, 12,  8, 11,  8, 11, 11,  9, 11,  7, 15,  8,\n",
       "        9,  8, 13, 11,  7,  8,  8, 10, 10, 16, 11,  8, 10, 10, 13, 14, 13,\n",
       "        9, 10, 13, 12,  9,  7,  7, 13, 14,  9,  8, 11, 13, 12, 10,  6, 15,\n",
       "       12, 12,  8, 11, 16, 11, 13, 15, 11, 10, 10,  6, 14, 11, 12, 10, 12,\n",
       "       10, 12, 13,  9, 10,  9,  8, 11, 10, 14,  5, 12,  8,  7,  7,  9,  7,\n",
       "        9,  9, 10,  9, 10, 12, 16, 10, 14, 13, 10,  2,  8,  9, 13, 12, 11,\n",
       "        7,  2,  7, 10,  9, 12,  5, 12, 13, 13, 12,  6, 12,  8, 11, 11, 14,\n",
       "       10,  8,  9, 12,  5, 10, 11,  8, 15,  8, 12, 15, 12, 13, 12,  5, 10,\n",
       "        7, 10,  9, 10,  9, 13, 12,  9,  9,  9, 15, 11,  8,  7,  8, 12,  7,\n",
       "       11,  7, 10, 15, 10, 14, 12, 14,  7, 12,  1,  9,  9,  9, 12,  8, 12,\n",
       "        9,  7,  8,  4,  9,  6,  5, 12,  9,  9,  9, 12, 13, 13])"
      ]
     },
     "execution_count": 8,
     "metadata": {},
     "output_type": "execute_result"
    }
   ],
   "source": [
    "bin_rand"
   ]
  },
  {
   "cell_type": "markdown",
   "metadata": {},
   "source": [
    "creando un array con las frecuencias de los datos asignados aleatoriamente en el bloque de código anterior."
   ]
  },
  {
   "cell_type": "code",
   "execution_count": null,
   "metadata": {},
   "outputs": [],
   "source": [
    "import numpy as np\n",
    "unique, counts = np.unique(bin_rand, return_counts=True)\n",
    "frec=np.asarray((unique, counts)).T"
   ]
  },
  {
   "cell_type": "markdown",
   "metadata": {},
   "source": [
    "Creando un Dataframe que alojara los valores y las frecuencias del anterior array"
   ]
  },
  {
   "cell_type": "code",
   "execution_count": 60,
   "metadata": {},
   "outputs": [
    {
     "data": {
      "text/html": [
       "<div>\n",
       "<style scoped>\n",
       "    .dataframe tbody tr th:only-of-type {\n",
       "        vertical-align: middle;\n",
       "    }\n",
       "\n",
       "    .dataframe tbody tr th {\n",
       "        vertical-align: top;\n",
       "    }\n",
       "\n",
       "    .dataframe thead th {\n",
       "        text-align: right;\n",
       "    }\n",
       "</style>\n",
       "<table border=\"1\" class=\"dataframe\">\n",
       "  <thead>\n",
       "    <tr style=\"text-align: right;\">\n",
       "      <th></th>\n",
       "      <th>valor</th>\n",
       "      <th>frecuencia</th>\n",
       "    </tr>\n",
       "  </thead>\n",
       "  <tbody>\n",
       "    <tr>\n",
       "      <th>0</th>\n",
       "      <td>1</td>\n",
       "      <td>1</td>\n",
       "    </tr>\n",
       "    <tr>\n",
       "      <th>1</th>\n",
       "      <td>2</td>\n",
       "      <td>2</td>\n",
       "    </tr>\n",
       "    <tr>\n",
       "      <th>2</th>\n",
       "      <td>3</td>\n",
       "      <td>3</td>\n",
       "    </tr>\n",
       "    <tr>\n",
       "      <th>3</th>\n",
       "      <td>4</td>\n",
       "      <td>12</td>\n",
       "    </tr>\n",
       "    <tr>\n",
       "      <th>4</th>\n",
       "      <td>5</td>\n",
       "      <td>24</td>\n",
       "    </tr>\n",
       "    <tr>\n",
       "      <th>5</th>\n",
       "      <td>6</td>\n",
       "      <td>54</td>\n",
       "    </tr>\n",
       "    <tr>\n",
       "      <th>6</th>\n",
       "      <td>7</td>\n",
       "      <td>92</td>\n",
       "    </tr>\n",
       "    <tr>\n",
       "      <th>7</th>\n",
       "      <td>8</td>\n",
       "      <td>119</td>\n",
       "    </tr>\n",
       "    <tr>\n",
       "      <th>8</th>\n",
       "      <td>9</td>\n",
       "      <td>135</td>\n",
       "    </tr>\n",
       "    <tr>\n",
       "      <th>9</th>\n",
       "      <td>10</td>\n",
       "      <td>123</td>\n",
       "    </tr>\n",
       "    <tr>\n",
       "      <th>10</th>\n",
       "      <td>11</td>\n",
       "      <td>132</td>\n",
       "    </tr>\n",
       "    <tr>\n",
       "      <th>11</th>\n",
       "      <td>12</td>\n",
       "      <td>122</td>\n",
       "    </tr>\n",
       "    <tr>\n",
       "      <th>12</th>\n",
       "      <td>13</td>\n",
       "      <td>81</td>\n",
       "    </tr>\n",
       "    <tr>\n",
       "      <th>13</th>\n",
       "      <td>14</td>\n",
       "      <td>43</td>\n",
       "    </tr>\n",
       "    <tr>\n",
       "      <th>14</th>\n",
       "      <td>15</td>\n",
       "      <td>23</td>\n",
       "    </tr>\n",
       "    <tr>\n",
       "      <th>15</th>\n",
       "      <td>16</td>\n",
       "      <td>17</td>\n",
       "    </tr>\n",
       "    <tr>\n",
       "      <th>16</th>\n",
       "      <td>17</td>\n",
       "      <td>9</td>\n",
       "    </tr>\n",
       "    <tr>\n",
       "      <th>17</th>\n",
       "      <td>18</td>\n",
       "      <td>5</td>\n",
       "    </tr>\n",
       "    <tr>\n",
       "      <th>18</th>\n",
       "      <td>19</td>\n",
       "      <td>2</td>\n",
       "    </tr>\n",
       "    <tr>\n",
       "      <th>19</th>\n",
       "      <td>22</td>\n",
       "      <td>1</td>\n",
       "    </tr>\n",
       "  </tbody>\n",
       "</table>\n",
       "</div>"
      ],
      "text/plain": [
       "    valor  frecuencia\n",
       "0       1           1\n",
       "1       2           2\n",
       "2       3           3\n",
       "3       4          12\n",
       "4       5          24\n",
       "5       6          54\n",
       "6       7          92\n",
       "7       8         119\n",
       "8       9         135\n",
       "9      10         123\n",
       "10     11         132\n",
       "11     12         122\n",
       "12     13          81\n",
       "13     14          43\n",
       "14     15          23\n",
       "15     16          17\n",
       "16     17           9\n",
       "17     18           5\n",
       "18     19           2\n",
       "19     22           1"
      ]
     },
     "execution_count": 60,
     "metadata": {},
     "output_type": "execute_result"
    }
   ],
   "source": [
    "import pandas as pd\n",
    "df_frec = pd.DataFrame(frec)\n",
    "df_frec.set_axis(['valor', 'frecuencia'], \n",
    "                    axis='columns', inplace=True)\n",
    "df_frec"
   ]
  },
  {
   "cell_type": "markdown",
   "metadata": {},
   "source": [
    "**Ejercicio 2**\n",
    "\n",
    "Dar una respuesta aproximada del ejercicio anterior a partir del arreglo `bin_rand`."
   ]
  },
  {
   "cell_type": "markdown",
   "metadata": {},
   "source": [
    "Calculando la probailidad para cada uno de los valores de la variable discreta"
   ]
  },
  {
   "cell_type": "code",
   "execution_count": 57,
   "metadata": {},
   "outputs": [],
   "source": [
    "df_frec['probabilidad']=df_frec['frecuencia']/len(bin_rand)"
   ]
  },
  {
   "cell_type": "markdown",
   "metadata": {},
   "source": [
    "### Respuesta"
   ]
  },
  {
   "cell_type": "code",
   "execution_count": 58,
   "metadata": {
    "scrolled": false
   },
   "outputs": [
    {
     "data": {
      "text/html": [
       "<div>\n",
       "<style scoped>\n",
       "    .dataframe tbody tr th:only-of-type {\n",
       "        vertical-align: middle;\n",
       "    }\n",
       "\n",
       "    .dataframe tbody tr th {\n",
       "        vertical-align: top;\n",
       "    }\n",
       "\n",
       "    .dataframe thead th {\n",
       "        text-align: right;\n",
       "    }\n",
       "</style>\n",
       "<table border=\"1\" class=\"dataframe\">\n",
       "  <thead>\n",
       "    <tr style=\"text-align: right;\">\n",
       "      <th></th>\n",
       "      <th>valor</th>\n",
       "      <th>frecuencia</th>\n",
       "      <th>probabilidad</th>\n",
       "    </tr>\n",
       "  </thead>\n",
       "  <tbody>\n",
       "    <tr>\n",
       "      <th>0</th>\n",
       "      <td>1</td>\n",
       "      <td>1</td>\n",
       "      <td>0.001</td>\n",
       "    </tr>\n",
       "    <tr>\n",
       "      <th>1</th>\n",
       "      <td>2</td>\n",
       "      <td>2</td>\n",
       "      <td>0.002</td>\n",
       "    </tr>\n",
       "    <tr>\n",
       "      <th>2</th>\n",
       "      <td>3</td>\n",
       "      <td>3</td>\n",
       "      <td>0.003</td>\n",
       "    </tr>\n",
       "    <tr>\n",
       "      <th>3</th>\n",
       "      <td>4</td>\n",
       "      <td>12</td>\n",
       "      <td>0.012</td>\n",
       "    </tr>\n",
       "    <tr>\n",
       "      <th>4</th>\n",
       "      <td>5</td>\n",
       "      <td>24</td>\n",
       "      <td>0.024</td>\n",
       "    </tr>\n",
       "    <tr>\n",
       "      <th>5</th>\n",
       "      <td>6</td>\n",
       "      <td>54</td>\n",
       "      <td>0.054</td>\n",
       "    </tr>\n",
       "    <tr>\n",
       "      <th>6</th>\n",
       "      <td>7</td>\n",
       "      <td>92</td>\n",
       "      <td>0.092</td>\n",
       "    </tr>\n",
       "    <tr>\n",
       "      <th>7</th>\n",
       "      <td>8</td>\n",
       "      <td>119</td>\n",
       "      <td>0.119</td>\n",
       "    </tr>\n",
       "    <tr>\n",
       "      <th>8</th>\n",
       "      <td>9</td>\n",
       "      <td>135</td>\n",
       "      <td>0.135</td>\n",
       "    </tr>\n",
       "    <tr>\n",
       "      <th>9</th>\n",
       "      <td>10</td>\n",
       "      <td>123</td>\n",
       "      <td>0.123</td>\n",
       "    </tr>\n",
       "    <tr>\n",
       "      <th>10</th>\n",
       "      <td>11</td>\n",
       "      <td>132</td>\n",
       "      <td>0.132</td>\n",
       "    </tr>\n",
       "    <tr>\n",
       "      <th>11</th>\n",
       "      <td>12</td>\n",
       "      <td>122</td>\n",
       "      <td>0.122</td>\n",
       "    </tr>\n",
       "    <tr>\n",
       "      <th>12</th>\n",
       "      <td>13</td>\n",
       "      <td>81</td>\n",
       "      <td>0.081</td>\n",
       "    </tr>\n",
       "    <tr>\n",
       "      <th>13</th>\n",
       "      <td>14</td>\n",
       "      <td>43</td>\n",
       "      <td>0.043</td>\n",
       "    </tr>\n",
       "    <tr>\n",
       "      <th>14</th>\n",
       "      <td>15</td>\n",
       "      <td>23</td>\n",
       "      <td>0.023</td>\n",
       "    </tr>\n",
       "    <tr>\n",
       "      <th>15</th>\n",
       "      <td>16</td>\n",
       "      <td>17</td>\n",
       "      <td>0.017</td>\n",
       "    </tr>\n",
       "    <tr>\n",
       "      <th>16</th>\n",
       "      <td>17</td>\n",
       "      <td>9</td>\n",
       "      <td>0.009</td>\n",
       "    </tr>\n",
       "    <tr>\n",
       "      <th>17</th>\n",
       "      <td>18</td>\n",
       "      <td>5</td>\n",
       "      <td>0.005</td>\n",
       "    </tr>\n",
       "    <tr>\n",
       "      <th>18</th>\n",
       "      <td>19</td>\n",
       "      <td>2</td>\n",
       "      <td>0.002</td>\n",
       "    </tr>\n",
       "    <tr>\n",
       "      <th>19</th>\n",
       "      <td>22</td>\n",
       "      <td>1</td>\n",
       "      <td>0.001</td>\n",
       "    </tr>\n",
       "  </tbody>\n",
       "</table>\n",
       "</div>"
      ],
      "text/plain": [
       "    valor  frecuencia  probabilidad\n",
       "0       1           1         0.001\n",
       "1       2           2         0.002\n",
       "2       3           3         0.003\n",
       "3       4          12         0.012\n",
       "4       5          24         0.024\n",
       "5       6          54         0.054\n",
       "6       7          92         0.092\n",
       "7       8         119         0.119\n",
       "8       9         135         0.135\n",
       "9      10         123         0.123\n",
       "10     11         132         0.132\n",
       "11     12         122         0.122\n",
       "12     13          81         0.081\n",
       "13     14          43         0.043\n",
       "14     15          23         0.023\n",
       "15     16          17         0.017\n",
       "16     17           9         0.009\n",
       "17     18           5         0.005\n",
       "18     19           2         0.002\n",
       "19     22           1         0.001"
      ]
     },
     "execution_count": 58,
     "metadata": {},
     "output_type": "execute_result"
    }
   ],
   "source": [
    "df_frec"
   ]
  },
  {
   "cell_type": "code",
   "execution_count": 59,
   "metadata": {},
   "outputs": [
    {
     "data": {
      "image/png": "[encoded data removed]",
      "text/plain": [
       "<Figure size 432x288 with 1 Axes>"
      ]
     },
     "metadata": {
      "needs_background": "light"
     },
     "output_type": "display_data"
    }
   ],
   "source": [
    "# plot PMF as barplot\n",
    "ax = sns.barplot(\n",
    "    x='valor',\n",
    "    y='probabilidad',\n",
    "    data=df_frec,\n",
    ")\n",
    "plt.savefig(\"pmf\")"
   ]
  },
  {
   "cell_type": "markdown",
   "metadata": {},
   "source": [
    "### Distribución de Poisson\n",
    "Es una distribución de probabilidad discreta que a partir de una frecuencia de ocurrencia media, sirve para hallar la probabilidad de que ocurra un determinado número de eventos durante cierto período de tiempo.\n",
    "\n",
    "Para representar que una variable aleatoria $X$ sigue una distribución de Poisson con parámetro $\\lambda$, el cual representa el número de veces que se espera que ocurra el fenómeno durante un intervalo dado, usaremos la siguiente notación:\n",
    "\n",
    "$${\\displaystyle X\\sim Poi(\\lambda)},$$\n",
    "\n",
    "La función de masa de probabilidad de la distribución de Poisson es\n",
    "\n",
    "$${\\displaystyle f(k,\\lambda )={\\frac {e^{-\\lambda }\\lambda ^{k}}{k!}}}$$\n",
    "\n",
    "siendo $k$ el número de ocurrencias del evento. \n",
    "\n",
    "**Ejemplo**\n",
    "\n",
    "Si el 1% de los libros encuadernados tiene defectos, para obtener la probabilidad de que 10 de 800 libros encuadernados en este taller tengan encuadernaciones defectuosas usamos la distribución de Poisson.\n",
    "\n",
    "En tal caso $k=10$, $\\lambda=8$ ya que es el $1\\%$ de $800$\n",
    "por lo tanto\n",
    "$${\\displaystyle P(10;8)={\\frac {8^{10}e^{-8}}{10!}}\\approx0,0992615.}$$"
   ]
  },
  {
   "cell_type": "code",
   "execution_count": 65,
   "metadata": {},
   "outputs": [
    {
     "data": {
      "text/plain": [
       "0.09926153383153544"
      ]
     },
     "execution_count": 65,
     "metadata": {},
     "output_type": "execute_result"
    }
   ],
   "source": [
    "X = ss.poisson(8) \n",
    "# λ = 8 =el cual representa el número de veces que se espera que ocurra el fenómeno\n",
    "X.pmf(10)\n",
    "#𝑘  el número de ocurrencias del evento"
   ]
  },
  {
   "cell_type": "markdown",
   "metadata": {},
   "source": [
    "Es decir la probabilidad es del 9.92%"
   ]
  },
  {
   "cell_type": "markdown",
   "metadata": {},
   "source": [
    "### Números aleatorios a partir de Poisson\n",
    "Replicamos el ejercicio anterior pero con la distribución de Poisson. Pero aquí usaremos una semilla usando la función `np.random.seed()`"
   ]
  },
  {
   "cell_type": "code",
   "execution_count": 63,
   "metadata": {},
   "outputs": [],
   "source": [
    "# Iniciar semilla \n",
    "np.random.seed(2021) "
   ]
  },
  {
   "cell_type": "markdown",
   "metadata": {},
   "source": [
    "Calculate the absolute difference between their mean and lambda using the `np.mean()` and `abs()`."
   ]
  },
  {
   "cell_type": "code",
   "execution_count": 66,
   "metadata": {},
   "outputs": [],
   "source": [
    "poi_ran=np.random.poisson(8,1000)"
   ]
  },
  {
   "cell_type": "code",
   "execution_count": 67,
   "metadata": {
    "scrolled": true
   },
   "outputs": [
    {
     "data": {
      "text/plain": [
       "array([12,  5,  7,  5,  3, 10, 11,  8,  5,  5,  4,  5,  8,  5, 10,  8,  9,\n",
       "        6,  9,  8,  8,  6, 10,  7, 13,  8, 12, 11, 12,  7, 17,  7,  7,  8,\n",
       "       10, 11,  4,  9,  9,  9,  7,  8,  9, 11,  9, 12, 10,  5,  5,  2,  7,\n",
       "        6,  8,  9, 12,  4,  5,  6,  8,  6,  9,  8, 11, 13,  5,  9,  7,  7,\n",
       "       12,  7, 13, 10, 11, 10,  8, 11, 13,  3,  3,  7,  7,  6, 15,  7,  6,\n",
       "        6, 12, 10,  9,  8,  6,  6,  6,  6,  4,  7,  9,  8,  6,  8,  9,  2,\n",
       "       10,  4,  5, 10,  8, 11,  6,  8,  8,  5,  9,  9,  8,  9,  7,  4,  9,\n",
       "        9,  9,  4,  7, 12, 12,  4,  7, 17,  7,  8, 12, 11,  9,  8, 11, 11,\n",
       "        9, 11,  8,  8,  6, 10,  9,  6, 11,  3,  9,  8,  5,  8,  8, 11, 13,\n",
       "        6,  9,  7,  6,  6,  8,  4,  9, 10,  7,  6,  4, 10,  9,  9,  4, 10,\n",
       "        8,  4,  8, 10,  5,  5,  8, 12,  5,  4,  9,  7,  7,  6, 10,  8,  7,\n",
       "        5,  8,  4,  5, 10,  8,  7,  7, 10, 12,  4, 11,  2, 11, 12, 13,  8,\n",
       "        4,  7,  9,  3,  8,  8,  5,  9, 10,  9,  9,  3,  9, 12, 10,  2, 11,\n",
       "        7,  7, 10,  7,  4,  8,  6,  8,  5, 10,  7,  5,  7, 14, 11,  4,  7,\n",
       "        9,  4,  4,  9, 10,  5,  9, 10,  8,  9,  4,  8, 11, 10,  8,  9,  9,\n",
       "       12, 10, 10,  5,  3,  8,  8,  7, 11,  6,  4, 10,  8,  7, 12,  8,  7,\n",
       "       12, 13,  8,  8,  8,  6,  7,  5,  8,  6,  4, 10,  3, 11, 12, 13,  8,\n",
       "        6,  7,  8,  8,  5, 12,  7, 11,  8,  8,  5,  6, 13,  9,  9,  4,  4,\n",
       "        5, 10,  8,  9,  5,  7,  6,  7,  8, 11,  8,  9,  8, 12,  5, 10,  7,\n",
       "        6,  4,  5,  6,  9, 14,  9,  8, 12,  7,  7, 10,  5,  6, 11,  8,  9,\n",
       "        7,  6,  7, 12, 11,  7, 10,  5,  8,  6,  8,  7,  5,  8, 10, 12,  5,\n",
       "        4,  5,  6,  9, 11,  6, 10,  8,  5,  9,  9,  6,  5,  5, 11, 12,  5,\n",
       "       10,  4,  8,  4,  6,  8,  6,  6,  7, 12,  7,  6, 10, 12,  8,  5,  7,\n",
       "        8,  8,  5,  9,  8, 11,  5,  8, 15,  8,  5,  9,  8,  8, 10,  6, 10,\n",
       "        5,  5,  5,  5, 10,  8,  6,  8,  7, 12,  8,  8,  8, 13,  3, 10, 10,\n",
       "        9,  9, 11,  7,  7, 13, 11, 11,  9, 11, 10,  5, 12, 10, 10,  6, 10,\n",
       "        3, 12,  8,  7,  4,  5,  5,  8,  8,  7,  7,  7,  7,  7,  9, 11,  5,\n",
       "        8,  8,  8,  7,  7,  3, 10,  4,  6, 11,  8, 10,  8,  7,  9,  5, 10,\n",
       "        8,  7,  5,  5,  6,  6,  8, 13,  7,  7,  9, 11,  5,  8,  9,  4,  6,\n",
       "        3, 10,  8,  8,  6,  8, 12,  3,  4,  8,  7,  5,  8, 13, 12,  6, 10,\n",
       "        6,  9, 13,  2, 10,  8,  8,  8, 10, 10, 10,  8, 11,  9,  1,  9, 10,\n",
       "        6,  6,  8,  9,  9,  9,  6, 14,  8,  5,  7, 14,  5, 11,  7, 11, 11,\n",
       "        8,  6,  6,  9,  4, 13,  7,  8,  6, 12,  9,  7,  5, 11,  9,  8, 13,\n",
       "       13, 14, 12, 11,  6, 10,  6, 12,  3, 10,  9,  6, 15,  5, 13,  4,  7,\n",
       "        5,  3,  8,  5,  8,  7, 11,  8,  8, 16,  7, 13, 10,  9, 10,  8,  7,\n",
       "       11, 12, 14,  6,  5,  7,  6, 10,  7, 10,  4, 17, 13,  9,  9,  4, 11,\n",
       "       12,  6,  6,  9,  8,  4,  6, 22, 11, 12,  7,  7,  8,  5, 13,  4,  8,\n",
       "        8,  6, 17, 11, 10,  5,  7,  5,  9,  4,  7, 10, 10, 12,  9,  5,  8,\n",
       "       10,  8,  9,  7,  5,  2,  9,  7,  5, 11,  8,  4, 14,  4,  7, 13, 10,\n",
       "       11,  5, 11,  6,  8,  8,  7,  3, 12,  5,  7, 12, 12, 13,  7,  5,  4,\n",
       "        3,  5, 13, 13, 10,  6, 12, 10,  6, 11,  3,  8,  6,  5, 16,  8,  7,\n",
       "       10,  5,  8,  8,  8, 10,  4,  4,  8,  6,  8,  2,  7,  6, 16,  5, 11,\n",
       "       11, 10,  5, 12,  6,  6,  8, 13,  9,  8, 10,  7,  9,  7,  8,  3, 10,\n",
       "       10, 15, 11, 12,  8,  5, 14,  8,  5, 11,  9, 11,  6,  6,  1,  9,  6,\n",
       "        3, 13, 14,  9, 10,  8, 15, 13,  9, 11,  7,  8, 12,  8,  6,  3, 10,\n",
       "       11,  7,  5,  8,  7, 13,  5, 10,  5,  9,  5,  4,  5, 10, 10,  7,  6,\n",
       "       11,  6,  8, 15, 10,  3,  7,  8, 10,  6,  9,  8,  7, 14, 11,  6,  5,\n",
       "        5, 13, 11,  7,  5, 10,  5,  7,  8,  7,  6,  6,  7,  8,  9, 16,  6,\n",
       "       12,  8,  9,  9,  8, 10,  5, 11, 11,  7, 18,  8,  8,  5,  8,  6,  8,\n",
       "       10, 10,  2,  6,  7,  6,  9,  8,  6,  9,  4,  9,  7,  8,  7, 11,  9,\n",
       "        7,  9,  4,  7, 11,  6,  4, 12,  8,  7,  6,  8,  8, 13, 12,  9,  5,\n",
       "        9, 10,  7, 16, 13,  8,  9,  8,  7, 11,  9,  4, 12,  6, 10,  7, 12,\n",
       "        8,  9,  6,  7,  8,  7, 11, 14, 13,  9,  8,  4,  9,  9,  8,  4,  9,\n",
       "        6,  9,  8,  3, 10,  4,  9,  9,  6,  6, 12, 14, 12,  5, 10,  9,  7,\n",
       "        6,  5,  9,  8,  6, 13, 13,  6,  8, 10,  7, 11,  8,  6,  9, 10,  5,\n",
       "        5,  8,  9,  5,  6, 13, 12,  4, 15,  5,  8,  4,  9,  4,  3,  7, 11,\n",
       "        8,  7,  6, 11,  5,  7,  4, 10,  7, 10,  6,  9, 10, 12,  4,  6, 10,\n",
       "       11,  8,  4, 12,  8, 10,  8, 10,  6, 15,  7,  8,  6,  4,  8,  9,  9,\n",
       "        5, 10,  5,  7, 10,  7, 10,  8,  4,  9,  2,  8,  5,  6])"
      ]
     },
     "execution_count": 67,
     "metadata": {},
     "output_type": "execute_result"
    }
   ],
   "source": [
    "poi_ran"
   ]
  },
  {
   "cell_type": "markdown",
   "metadata": {},
   "source": [
    "**Ejercicio 3**\n",
    "\n",
    "Replique lo hecho en el ejercicio 2 para esta distribución y resolviendo el ejemplo propuesto."
   ]
  },
  {
   "cell_type": "markdown",
   "metadata": {},
   "source": [
    "Asignando semilla y creando los mil valores aleatorios con distribucion de Poisson con λ=8"
   ]
  },
  {
   "cell_type": "code",
   "execution_count": 68,
   "metadata": {},
   "outputs": [],
   "source": [
    "np.random.seed(2021) \n",
    "poi_ran=np.random.poisson(8,1000)"
   ]
  },
  {
   "cell_type": "markdown",
   "metadata": {},
   "source": [
    "creando un array con las frecuencias de los datos asignados aleatoriamente en el bloque de código anterior."
   ]
  },
  {
   "cell_type": "code",
   "execution_count": null,
   "metadata": {},
   "outputs": [],
   "source": [
    "import numpy as np\n",
    "unique, counts = np.unique(poi_ran, return_counts=True)\n",
    "frec_p=np.asarray((unique, counts)).T"
   ]
  },
  {
   "cell_type": "markdown",
   "metadata": {},
   "source": [
    "Creando un Dataframe que alojara los valores y las frecuencias del anterior array"
   ]
  },
  {
   "cell_type": "code",
   "execution_count": 69,
   "metadata": {
    "scrolled": false
   },
   "outputs": [
    {
     "data": {
      "text/html": [
       "<div>\n",
       "<style scoped>\n",
       "    .dataframe tbody tr th:only-of-type {\n",
       "        vertical-align: middle;\n",
       "    }\n",
       "\n",
       "    .dataframe tbody tr th {\n",
       "        vertical-align: top;\n",
       "    }\n",
       "\n",
       "    .dataframe thead th {\n",
       "        text-align: right;\n",
       "    }\n",
       "</style>\n",
       "<table border=\"1\" class=\"dataframe\">\n",
       "  <thead>\n",
       "    <tr style=\"text-align: right;\">\n",
       "      <th></th>\n",
       "      <th>valor</th>\n",
       "      <th>frecuencia</th>\n",
       "    </tr>\n",
       "  </thead>\n",
       "  <tbody>\n",
       "    <tr>\n",
       "      <th>0</th>\n",
       "      <td>0</td>\n",
       "      <td>1</td>\n",
       "    </tr>\n",
       "    <tr>\n",
       "      <th>1</th>\n",
       "      <td>1</td>\n",
       "      <td>4</td>\n",
       "    </tr>\n",
       "    <tr>\n",
       "      <th>2</th>\n",
       "      <td>2</td>\n",
       "      <td>11</td>\n",
       "    </tr>\n",
       "    <tr>\n",
       "      <th>3</th>\n",
       "      <td>3</td>\n",
       "      <td>27</td>\n",
       "    </tr>\n",
       "    <tr>\n",
       "      <th>4</th>\n",
       "      <td>4</td>\n",
       "      <td>50</td>\n",
       "    </tr>\n",
       "    <tr>\n",
       "      <th>5</th>\n",
       "      <td>5</td>\n",
       "      <td>80</td>\n",
       "    </tr>\n",
       "    <tr>\n",
       "      <th>6</th>\n",
       "      <td>6</td>\n",
       "      <td>119</td>\n",
       "    </tr>\n",
       "    <tr>\n",
       "      <th>7</th>\n",
       "      <td>7</td>\n",
       "      <td>153</td>\n",
       "    </tr>\n",
       "    <tr>\n",
       "      <th>8</th>\n",
       "      <td>8</td>\n",
       "      <td>139</td>\n",
       "    </tr>\n",
       "    <tr>\n",
       "      <th>9</th>\n",
       "      <td>9</td>\n",
       "      <td>120</td>\n",
       "    </tr>\n",
       "    <tr>\n",
       "      <th>10</th>\n",
       "      <td>10</td>\n",
       "      <td>99</td>\n",
       "    </tr>\n",
       "    <tr>\n",
       "      <th>11</th>\n",
       "      <td>11</td>\n",
       "      <td>73</td>\n",
       "    </tr>\n",
       "    <tr>\n",
       "      <th>12</th>\n",
       "      <td>12</td>\n",
       "      <td>55</td>\n",
       "    </tr>\n",
       "    <tr>\n",
       "      <th>13</th>\n",
       "      <td>13</td>\n",
       "      <td>35</td>\n",
       "    </tr>\n",
       "    <tr>\n",
       "      <th>14</th>\n",
       "      <td>14</td>\n",
       "      <td>15</td>\n",
       "    </tr>\n",
       "    <tr>\n",
       "      <th>15</th>\n",
       "      <td>15</td>\n",
       "      <td>13</td>\n",
       "    </tr>\n",
       "    <tr>\n",
       "      <th>16</th>\n",
       "      <td>16</td>\n",
       "      <td>5</td>\n",
       "    </tr>\n",
       "    <tr>\n",
       "      <th>17</th>\n",
       "      <td>18</td>\n",
       "      <td>1</td>\n",
       "    </tr>\n",
       "  </tbody>\n",
       "</table>\n",
       "</div>"
      ],
      "text/plain": [
       "    valor  frecuencia\n",
       "0       0           1\n",
       "1       1           4\n",
       "2       2          11\n",
       "3       3          27\n",
       "4       4          50\n",
       "5       5          80\n",
       "6       6         119\n",
       "7       7         153\n",
       "8       8         139\n",
       "9       9         120\n",
       "10     10          99\n",
       "11     11          73\n",
       "12     12          55\n",
       "13     13          35\n",
       "14     14          15\n",
       "15     15          13\n",
       "16     16           5\n",
       "17     18           1"
      ]
     },
     "execution_count": 69,
     "metadata": {},
     "output_type": "execute_result"
    }
   ],
   "source": [
    "import pandas as pd\n",
    "df_frec_p = pd.DataFrame(frec_p)\n",
    "df_frec_p.set_axis(['valor', 'frecuencia'], \n",
    "                    axis='columns', inplace=True)\n",
    "df_frec_p"
   ]
  },
  {
   "cell_type": "markdown",
   "metadata": {},
   "source": [
    "cálculando las probabilidades "
   ]
  },
  {
   "cell_type": "code",
   "execution_count": 70,
   "metadata": {},
   "outputs": [],
   "source": [
    "df_frec_p['probabilidad']=df_frec_p['frecuencia']/len(poi_ran)"
   ]
  },
  {
   "cell_type": "markdown",
   "metadata": {},
   "source": [
    "### Respuesta"
   ]
  },
  {
   "cell_type": "code",
   "execution_count": 71,
   "metadata": {},
   "outputs": [
    {
     "data": {
      "text/html": [
       "<div>\n",
       "<style scoped>\n",
       "    .dataframe tbody tr th:only-of-type {\n",
       "        vertical-align: middle;\n",
       "    }\n",
       "\n",
       "    .dataframe tbody tr th {\n",
       "        vertical-align: top;\n",
       "    }\n",
       "\n",
       "    .dataframe thead th {\n",
       "        text-align: right;\n",
       "    }\n",
       "</style>\n",
       "<table border=\"1\" class=\"dataframe\">\n",
       "  <thead>\n",
       "    <tr style=\"text-align: right;\">\n",
       "      <th></th>\n",
       "      <th>valor</th>\n",
       "      <th>frecuencia</th>\n",
       "      <th>probabilidad</th>\n",
       "    </tr>\n",
       "  </thead>\n",
       "  <tbody>\n",
       "    <tr>\n",
       "      <th>0</th>\n",
       "      <td>0</td>\n",
       "      <td>1</td>\n",
       "      <td>0.001</td>\n",
       "    </tr>\n",
       "    <tr>\n",
       "      <th>1</th>\n",
       "      <td>1</td>\n",
       "      <td>4</td>\n",
       "      <td>0.004</td>\n",
       "    </tr>\n",
       "    <tr>\n",
       "      <th>2</th>\n",
       "      <td>2</td>\n",
       "      <td>11</td>\n",
       "      <td>0.011</td>\n",
       "    </tr>\n",
       "    <tr>\n",
       "      <th>3</th>\n",
       "      <td>3</td>\n",
       "      <td>27</td>\n",
       "      <td>0.027</td>\n",
       "    </tr>\n",
       "    <tr>\n",
       "      <th>4</th>\n",
       "      <td>4</td>\n",
       "      <td>50</td>\n",
       "      <td>0.050</td>\n",
       "    </tr>\n",
       "    <tr>\n",
       "      <th>5</th>\n",
       "      <td>5</td>\n",
       "      <td>80</td>\n",
       "      <td>0.080</td>\n",
       "    </tr>\n",
       "    <tr>\n",
       "      <th>6</th>\n",
       "      <td>6</td>\n",
       "      <td>119</td>\n",
       "      <td>0.119</td>\n",
       "    </tr>\n",
       "    <tr>\n",
       "      <th>7</th>\n",
       "      <td>7</td>\n",
       "      <td>153</td>\n",
       "      <td>0.153</td>\n",
       "    </tr>\n",
       "    <tr>\n",
       "      <th>8</th>\n",
       "      <td>8</td>\n",
       "      <td>139</td>\n",
       "      <td>0.139</td>\n",
       "    </tr>\n",
       "    <tr>\n",
       "      <th>9</th>\n",
       "      <td>9</td>\n",
       "      <td>120</td>\n",
       "      <td>0.120</td>\n",
       "    </tr>\n",
       "    <tr>\n",
       "      <th>10</th>\n",
       "      <td>10</td>\n",
       "      <td>99</td>\n",
       "      <td>0.099</td>\n",
       "    </tr>\n",
       "    <tr>\n",
       "      <th>11</th>\n",
       "      <td>11</td>\n",
       "      <td>73</td>\n",
       "      <td>0.073</td>\n",
       "    </tr>\n",
       "    <tr>\n",
       "      <th>12</th>\n",
       "      <td>12</td>\n",
       "      <td>55</td>\n",
       "      <td>0.055</td>\n",
       "    </tr>\n",
       "    <tr>\n",
       "      <th>13</th>\n",
       "      <td>13</td>\n",
       "      <td>35</td>\n",
       "      <td>0.035</td>\n",
       "    </tr>\n",
       "    <tr>\n",
       "      <th>14</th>\n",
       "      <td>14</td>\n",
       "      <td>15</td>\n",
       "      <td>0.015</td>\n",
       "    </tr>\n",
       "    <tr>\n",
       "      <th>15</th>\n",
       "      <td>15</td>\n",
       "      <td>13</td>\n",
       "      <td>0.013</td>\n",
       "    </tr>\n",
       "    <tr>\n",
       "      <th>16</th>\n",
       "      <td>16</td>\n",
       "      <td>5</td>\n",
       "      <td>0.005</td>\n",
       "    </tr>\n",
       "    <tr>\n",
       "      <th>17</th>\n",
       "      <td>18</td>\n",
       "      <td>1</td>\n",
       "      <td>0.001</td>\n",
       "    </tr>\n",
       "  </tbody>\n",
       "</table>\n",
       "</div>"
      ],
      "text/plain": [
       "    valor  frecuencia  probabilidad\n",
       "0       0           1         0.001\n",
       "1       1           4         0.004\n",
       "2       2          11         0.011\n",
       "3       3          27         0.027\n",
       "4       4          50         0.050\n",
       "5       5          80         0.080\n",
       "6       6         119         0.119\n",
       "7       7         153         0.153\n",
       "8       8         139         0.139\n",
       "9       9         120         0.120\n",
       "10     10          99         0.099\n",
       "11     11          73         0.073\n",
       "12     12          55         0.055\n",
       "13     13          35         0.035\n",
       "14     14          15         0.015\n",
       "15     15          13         0.013\n",
       "16     16           5         0.005\n",
       "17     18           1         0.001"
      ]
     },
     "execution_count": 71,
     "metadata": {},
     "output_type": "execute_result"
    }
   ],
   "source": [
    "df_frec_p"
   ]
  },
  {
   "cell_type": "code",
   "execution_count": 72,
   "metadata": {},
   "outputs": [
    {
     "data": {
      "image/png": "[encoded data removed]",
      "text/plain": [
       "<Figure size 432x288 with 1 Axes>"
      ]
     },
     "metadata": {
      "needs_background": "light"
     },
     "output_type": "display_data"
    }
   ],
   "source": [
    "# plot PMF as barplot\n",
    "ax = sns.barplot(\n",
    "    x='valor',\n",
    "    y='probabilidad',\n",
    "    data=df_frec_p,\n",
    ")\n",
    "plt.savefig(\"pmf\")"
   ]
  },
  {
   "cell_type": "markdown",
   "metadata": {
    "variables": {
     "8 \\choose 1}{20-8 \\choose 6-1": "<p><strong>SyntaxError</strong>: unexpected character after line continuation character (<ipython-input-4-e19f3d9873b4>, line 1)</p>\n",
     "d \\choose x}{N-d \\choose n-x": "<p><strong>SyntaxError</strong>: unexpected character after line continuation character (<ipython-input-4-772e2014b2dd>, line 1)</p>\n"
    }
   },
   "source": [
    "### Distribución hipergeométrica\n",
    "Ésta es una distribución discreta relacionada con muestreos aleatorios y sin reemplazo, es decir, si se tienen $N$ elementos de los cuales, $d$ pertenecen a la categoría $A$ y los demás, $N-d$, a la categoría $B$. La distribución hipergeométrica mide la probabilidad de obtener $x$ elementos de la categoría $A$, para $({\\displaystyle 0\\leq x\\leq d})$, en una muestra sin reemplazo de $n$ elementos de la población original.\n",
    "\n",
    "La función de probabilidad de una variable aleatoria con distribución hipergeométrica es igual a\n",
    "\n",
    "$${\\displaystyle P(X=x)={\\frac {{d \\choose x}{N-d \\choose n-x}}{N \\choose n}}.}$$\n",
    "\n",
    "**Ejemplo**\n",
    "\n",
    "Se formó un jurado de 6 personas de un grupo de 20 posibles miembros de los cuales 8 eran mujeres y 12 hombres. El jurado seelecionó aleatoriamente, ¿cuál es la probabilidad de que el jurado tenga exactamente una mujer?\n",
    "\n",
    "$$P(20,8,6;1)={\\frac {{8 \\choose 1}{20-8 \\choose 6-1}}{20 \\choose 6}}\\approx 0.16346$$"
   ]
  },
  {
   "cell_type": "code",
   "execution_count": null,
   "metadata": {},
   "outputs": [],
   "source": [
    "X = ss.hypergeom(20,6,8)\n",
    "X.pmf(1)"
   ]
  },
  {
   "cell_type": "markdown",
   "metadata": {},
   "source": [
    "Es decir la probabilidad es del 16.34%"
   ]
  },
  {
   "cell_type": "markdown",
   "metadata": {},
   "source": [
    "### Números aleatorios a partir de hipergeométrica\n",
    "\n",
    "**Ejercicio 4**\n",
    "\n",
    "Haga un arreglo de 1000 números escogido según una distribución hipergemétrica."
   ]
  },
  {
   "cell_type": "code",
   "execution_count": 73,
   "metadata": {},
   "outputs": [],
   "source": [
    "??np.random.hypergeometric"
   ]
  },
  {
   "cell_type": "code",
   "execution_count": 79,
   "metadata": {},
   "outputs": [],
   "source": [
    "hip_ran = np.random.hypergeometric(15, 15, 15, 100000)"
   ]
  },
  {
   "cell_type": "code",
   "execution_count": 80,
   "metadata": {},
   "outputs": [
    {
     "data": {
      "text/plain": [
       "array([ 7, 10,  9, ...,  5,  8,  7])"
      ]
     },
     "execution_count": 80,
     "metadata": {},
     "output_type": "execute_result"
    }
   ],
   "source": [
    "hip_ran"
   ]
  },
  {
   "cell_type": "code",
   "execution_count": 77,
   "metadata": {},
   "outputs": [
    {
     "data": {
      "text/plain": [
       "0.0"
      ]
     },
     "execution_count": 77,
     "metadata": {},
     "output_type": "execute_result"
    }
   ],
   "source": [
    "X = ss.hypergeom(15,15,15)\n",
    "X.pmf(1)"
   ]
  },
  {
   "cell_type": "markdown",
   "metadata": {},
   "source": [
    "generando el conteo de las frecuencias en un array"
   ]
  },
  {
   "cell_type": "code",
   "execution_count": 82,
   "metadata": {},
   "outputs": [],
   "source": [
    "unique, counts = np.unique(hip_ran, return_counts=True)\n",
    "frec_h=np.asarray((unique, counts)).T"
   ]
  },
  {
   "cell_type": "code",
   "execution_count": 83,
   "metadata": {},
   "outputs": [
    {
     "data": {
      "text/plain": [
       "array([[    2,     4],\n",
       "       [    3,   128],\n",
       "       [    4,  1211],\n",
       "       [    5,  5854],\n",
       "       [    6, 16176],\n",
       "       [    7, 26573],\n",
       "       [    8, 26540],\n",
       "       [    9, 16265],\n",
       "       [   10,  5934],\n",
       "       [   11,  1177],\n",
       "       [   12,   129],\n",
       "       [   13,     8],\n",
       "       [   14,     1]], dtype=int64)"
      ]
     },
     "execution_count": 83,
     "metadata": {},
     "output_type": "execute_result"
    }
   ],
   "source": [
    "frec_h"
   ]
  },
  {
   "cell_type": "markdown",
   "metadata": {},
   "source": [
    "Generando dataframe con las frecuencias "
   ]
  },
  {
   "cell_type": "code",
   "execution_count": 85,
   "metadata": {},
   "outputs": [
    {
     "data": {
      "text/html": [
       "<div>\n",
       "<style scoped>\n",
       "    .dataframe tbody tr th:only-of-type {\n",
       "        vertical-align: middle;\n",
       "    }\n",
       "\n",
       "    .dataframe tbody tr th {\n",
       "        vertical-align: top;\n",
       "    }\n",
       "\n",
       "    .dataframe thead th {\n",
       "        text-align: right;\n",
       "    }\n",
       "</style>\n",
       "<table border=\"1\" class=\"dataframe\">\n",
       "  <thead>\n",
       "    <tr style=\"text-align: right;\">\n",
       "      <th></th>\n",
       "      <th>valor</th>\n",
       "      <th>frecuencia</th>\n",
       "    </tr>\n",
       "  </thead>\n",
       "  <tbody>\n",
       "    <tr>\n",
       "      <th>0</th>\n",
       "      <td>2</td>\n",
       "      <td>4</td>\n",
       "    </tr>\n",
       "    <tr>\n",
       "      <th>1</th>\n",
       "      <td>3</td>\n",
       "      <td>128</td>\n",
       "    </tr>\n",
       "    <tr>\n",
       "      <th>2</th>\n",
       "      <td>4</td>\n",
       "      <td>1211</td>\n",
       "    </tr>\n",
       "    <tr>\n",
       "      <th>3</th>\n",
       "      <td>5</td>\n",
       "      <td>5854</td>\n",
       "    </tr>\n",
       "    <tr>\n",
       "      <th>4</th>\n",
       "      <td>6</td>\n",
       "      <td>16176</td>\n",
       "    </tr>\n",
       "    <tr>\n",
       "      <th>5</th>\n",
       "      <td>7</td>\n",
       "      <td>26573</td>\n",
       "    </tr>\n",
       "    <tr>\n",
       "      <th>6</th>\n",
       "      <td>8</td>\n",
       "      <td>26540</td>\n",
       "    </tr>\n",
       "    <tr>\n",
       "      <th>7</th>\n",
       "      <td>9</td>\n",
       "      <td>16265</td>\n",
       "    </tr>\n",
       "    <tr>\n",
       "      <th>8</th>\n",
       "      <td>10</td>\n",
       "      <td>5934</td>\n",
       "    </tr>\n",
       "    <tr>\n",
       "      <th>9</th>\n",
       "      <td>11</td>\n",
       "      <td>1177</td>\n",
       "    </tr>\n",
       "    <tr>\n",
       "      <th>10</th>\n",
       "      <td>12</td>\n",
       "      <td>129</td>\n",
       "    </tr>\n",
       "    <tr>\n",
       "      <th>11</th>\n",
       "      <td>13</td>\n",
       "      <td>8</td>\n",
       "    </tr>\n",
       "    <tr>\n",
       "      <th>12</th>\n",
       "      <td>14</td>\n",
       "      <td>1</td>\n",
       "    </tr>\n",
       "  </tbody>\n",
       "</table>\n",
       "</div>"
      ],
      "text/plain": [
       "    valor  frecuencia\n",
       "0       2           4\n",
       "1       3         128\n",
       "2       4        1211\n",
       "3       5        5854\n",
       "4       6       16176\n",
       "5       7       26573\n",
       "6       8       26540\n",
       "7       9       16265\n",
       "8      10        5934\n",
       "9      11        1177\n",
       "10     12         129\n",
       "11     13           8\n",
       "12     14           1"
      ]
     },
     "execution_count": 85,
     "metadata": {},
     "output_type": "execute_result"
    }
   ],
   "source": [
    "df_frec_h = pd.DataFrame(frec_h)\n",
    "df_frec_h.set_axis(['valor', 'frecuencia'], \n",
    "                    axis='columns', inplace=True)\n",
    "df_frec_h"
   ]
  },
  {
   "cell_type": "markdown",
   "metadata": {},
   "source": [
    "Cálculando probabilidad"
   ]
  },
  {
   "cell_type": "code",
   "execution_count": 86,
   "metadata": {},
   "outputs": [],
   "source": [
    "df_frec_h['probabilidad']=df_frec_h['frecuencia']/len(poi_ran)"
   ]
  },
  {
   "cell_type": "markdown",
   "metadata": {},
   "source": [
    "### Respuesta"
   ]
  },
  {
   "cell_type": "code",
   "execution_count": 87,
   "metadata": {},
   "outputs": [
    {
     "data": {
      "text/html": [
       "<div>\n",
       "<style scoped>\n",
       "    .dataframe tbody tr th:only-of-type {\n",
       "        vertical-align: middle;\n",
       "    }\n",
       "\n",
       "    .dataframe tbody tr th {\n",
       "        vertical-align: top;\n",
       "    }\n",
       "\n",
       "    .dataframe thead th {\n",
       "        text-align: right;\n",
       "    }\n",
       "</style>\n",
       "<table border=\"1\" class=\"dataframe\">\n",
       "  <thead>\n",
       "    <tr style=\"text-align: right;\">\n",
       "      <th></th>\n",
       "      <th>valor</th>\n",
       "      <th>frecuencia</th>\n",
       "      <th>probabilidad</th>\n",
       "    </tr>\n",
       "  </thead>\n",
       "  <tbody>\n",
       "    <tr>\n",
       "      <th>0</th>\n",
       "      <td>2</td>\n",
       "      <td>4</td>\n",
       "      <td>0.004</td>\n",
       "    </tr>\n",
       "    <tr>\n",
       "      <th>1</th>\n",
       "      <td>3</td>\n",
       "      <td>128</td>\n",
       "      <td>0.128</td>\n",
       "    </tr>\n",
       "    <tr>\n",
       "      <th>2</th>\n",
       "      <td>4</td>\n",
       "      <td>1211</td>\n",
       "      <td>1.211</td>\n",
       "    </tr>\n",
       "    <tr>\n",
       "      <th>3</th>\n",
       "      <td>5</td>\n",
       "      <td>5854</td>\n",
       "      <td>5.854</td>\n",
       "    </tr>\n",
       "    <tr>\n",
       "      <th>4</th>\n",
       "      <td>6</td>\n",
       "      <td>16176</td>\n",
       "      <td>16.176</td>\n",
       "    </tr>\n",
       "    <tr>\n",
       "      <th>5</th>\n",
       "      <td>7</td>\n",
       "      <td>26573</td>\n",
       "      <td>26.573</td>\n",
       "    </tr>\n",
       "    <tr>\n",
       "      <th>6</th>\n",
       "      <td>8</td>\n",
       "      <td>26540</td>\n",
       "      <td>26.540</td>\n",
       "    </tr>\n",
       "    <tr>\n",
       "      <th>7</th>\n",
       "      <td>9</td>\n",
       "      <td>16265</td>\n",
       "      <td>16.265</td>\n",
       "    </tr>\n",
       "    <tr>\n",
       "      <th>8</th>\n",
       "      <td>10</td>\n",
       "      <td>5934</td>\n",
       "      <td>5.934</td>\n",
       "    </tr>\n",
       "    <tr>\n",
       "      <th>9</th>\n",
       "      <td>11</td>\n",
       "      <td>1177</td>\n",
       "      <td>1.177</td>\n",
       "    </tr>\n",
       "    <tr>\n",
       "      <th>10</th>\n",
       "      <td>12</td>\n",
       "      <td>129</td>\n",
       "      <td>0.129</td>\n",
       "    </tr>\n",
       "    <tr>\n",
       "      <th>11</th>\n",
       "      <td>13</td>\n",
       "      <td>8</td>\n",
       "      <td>0.008</td>\n",
       "    </tr>\n",
       "    <tr>\n",
       "      <th>12</th>\n",
       "      <td>14</td>\n",
       "      <td>1</td>\n",
       "      <td>0.001</td>\n",
       "    </tr>\n",
       "  </tbody>\n",
       "</table>\n",
       "</div>"
      ],
      "text/plain": [
       "    valor  frecuencia  probabilidad\n",
       "0       2           4         0.004\n",
       "1       3         128         0.128\n",
       "2       4        1211         1.211\n",
       "3       5        5854         5.854\n",
       "4       6       16176        16.176\n",
       "5       7       26573        26.573\n",
       "6       8       26540        26.540\n",
       "7       9       16265        16.265\n",
       "8      10        5934         5.934\n",
       "9      11        1177         1.177\n",
       "10     12         129         0.129\n",
       "11     13           8         0.008\n",
       "12     14           1         0.001"
      ]
     },
     "execution_count": 87,
     "metadata": {},
     "output_type": "execute_result"
    }
   ],
   "source": [
    "df_frec_h"
   ]
  },
  {
   "cell_type": "code",
   "execution_count": 88,
   "metadata": {},
   "outputs": [
    {
     "data": {
      "image/png": "[encoded data removed]",
      "text/plain": [
       "<Figure size 432x288 with 1 Axes>"
      ]
     },
     "metadata": {
      "needs_background": "light"
     },
     "output_type": "display_data"
    }
   ],
   "source": [
    "# plot PMF as barplot\n",
    "ax = sns.barplot(\n",
    "    x='valor',\n",
    "    y='probabilidad',\n",
    "    data=df_frec_h,\n",
    ")\n",
    "plt.savefig(\"pmf\")"
   ]
  },
  {
   "cell_type": "markdown",
   "metadata": {},
   "source": [
    "## Variables aleatorias continuas\n",
    "Por otro lado, las variables aleatorias continuas, son las que resultan generalmente de la medición y, pueden tomar cualquier valor dentro de un intervalo.\n",
    "\n",
    "### Distribución Normal\n",
    "Es la distribución que se aplica en la mayor cantidad de situaciones, en las que se trabaje con una variable aleatoria continua en un grupo o población dada. Ejemplos de tales situaciones son, las estaturas de hombre, mujeres, variaciones en la medición de diferentes cantidades, etc.\n",
    "\n",
    "Los parámetros que necesitamos definir para estudiar la distribución normal son $\\mu$ que es la media;  $\\sigma$ que representa la desviación típica, de modo que $\\sigma^2$ es la varianza. Si consideramos el caso especial de la función donde ${\\displaystyle \\mu =0}$ y ${\\displaystyle \\sigma =1}$, llamaremos a tal función como distribución normal estándar.\n",
    "    \n",
    "$$N(x;  μ,σ) = ∫_{-∞}^{x} f(u; μ,σ) du$$\n",
    "donde $f(u; μ,σ)$ es la función densidad de probabilidad:\n",
    "\n",
    "$$f(u; μ,σ) = \\frac{1}{σ\\sqrt{2π}} e^{\\frac{-(u-\\mu)^2}{2σ^2}}$$\n",
    "\n",
    "Muchas veces cuando no se posee un software, se hace necesario el uso de valores ya calculados que por lo general están consignados en tablas y son documentos de fácil acceso.\n",
    "\n",
    "**Ejemplo **\n",
    "\n",
    "Suponga que tiene un conjunto de datos aleatorios $X$ que siguen una distribución normal de media $10$ y desviación típica $2$. Se pide encontrar la probabilidad de que:\n",
    "\n",
    "1. La variable aleatoria $x$ sea menor o igual a 8.\n",
    "\n"
   ]
  },
  {
   "cell_type": "code",
   "execution_count": 89,
   "metadata": {},
   "outputs": [],
   "source": [
    "X = ss.norm(10,2)"
   ]
  },
  {
   "cell_type": "code",
   "execution_count": 90,
   "metadata": {},
   "outputs": [
    {
     "data": {
      "text/plain": [
       "0.15865525393145707"
      ]
     },
     "execution_count": 90,
     "metadata": {},
     "output_type": "execute_result"
    }
   ],
   "source": [
    "X.cdf(8) # La propabilidad es del 15.86%"
   ]
  },
  {
   "cell_type": "markdown",
   "metadata": {},
   "source": [
    "2. Sea menor o igual a 10."
   ]
  },
  {
   "cell_type": "code",
   "execution_count": 91,
   "metadata": {},
   "outputs": [
    {
     "data": {
      "text/plain": [
       "0.5"
      ]
     },
     "execution_count": 91,
     "metadata": {},
     "output_type": "execute_result"
    }
   ],
   "source": [
    "X.cdf(10) # La propabilidad es del 50%"
   ]
  },
  {
   "cell_type": "markdown",
   "metadata": {},
   "source": [
    "3.  Que la variable $x$ esté por debajo de 12.\n"
   ]
  },
  {
   "cell_type": "code",
   "execution_count": 92,
   "metadata": {},
   "outputs": [
    {
     "data": {
      "text/plain": [
       "0.8413447460685429"
      ]
     },
     "execution_count": 92,
     "metadata": {},
     "output_type": "execute_result"
    }
   ],
   "source": [
    "X.cdf(12) # La propabilidad es del 84.13%"
   ]
  },
  {
   "cell_type": "markdown",
   "metadata": {},
   "source": [
    "4. La probabilidad que un valor $x$ esté entre 8 y 12."
   ]
  },
  {
   "cell_type": "code",
   "execution_count": 93,
   "metadata": {},
   "outputs": [
    {
     "data": {
      "text/plain": [
       "0.6826894921370859"
      ]
     },
     "execution_count": 93,
     "metadata": {},
     "output_type": "execute_result"
    }
   ],
   "source": [
    "X.cdf(12)-X.cdf(8) # La propabilidad es del 68.26%"
   ]
  },
  {
   "cell_type": "markdown",
   "metadata": {},
   "source": [
    "**Ejercicio 5**\n",
    "\n",
    "Haga un arreglo de 1000 números escogidos según una distribución normal."
   ]
  },
  {
   "cell_type": "code",
   "execution_count": 111,
   "metadata": {},
   "outputs": [],
   "source": [
    "mu, sigma = 0, 0.1 # mean and standard deviation\n",
    "s = np.random.normal(mu, sigma, 1000)"
   ]
  },
  {
   "cell_type": "code",
   "execution_count": 121,
   "metadata": {},
   "outputs": [
    {
     "data": {
      "image/png": "[encoded data removed]",
      "text/plain": [
       "<Figure size 432x288 with 1 Axes>"
      ]
     },
     "metadata": {
      "needs_background": "light"
     },
     "output_type": "display_data"
    }
   ],
   "source": [
    "count, bins, ignored = plt.hist(s, 30, density=True)\n",
    "plt.plot(bins, 1/(sigma * np.sqrt(2 * np.pi)) *\n",
    "               np.exp( - (bins - mu)**2 / (2 * sigma**2) ),\n",
    "         linewidth=2, color='r')\n",
    "plt.show()"
   ]
  },
  {
   "cell_type": "markdown",
   "metadata": {},
   "source": [
    "## Otras escogencias aleatorias - Barajar un juego de cartas\n",
    "Muchas veces estamos interesados en aleatorizar el orden de un conjunto de elementos. Usaremos `np.random.shuffle ()`, una función que permite mezclar aleatoriamente una secuencia de elementos cualesquiera.\n"
   ]
  },
  {
   "cell_type": "code",
   "execution_count": null,
   "metadata": {},
   "outputs": [],
   "source": [
    "Baraja = []\n",
    "for i in [\"Corazón\",\"Picas\",\"Diamantes\",\"Trébol\"]:\n",
    "    for j in range(13):\n",
    "        Baraja.append((i,j+1))\n",
    "Baraja"
   ]
  },
  {
   "cell_type": "code",
   "execution_count": null,
   "metadata": {},
   "outputs": [],
   "source": [
    "# Shuffle the deck\n",
    "np.random.shuffle(Baraja)\n",
    "\n",
    "Baraja"
   ]
  },
  {
   "cell_type": "markdown",
   "metadata": {},
   "source": [
    "# Simulaciones - Casos prácticos\n",
    "*Tomados de [https://github.com/sukruc/statistical-simulation](https://github.com/sukruc/statistical-simulation)*\n",
    "\n",
    "## Esquema para modelar eventos reales a partir de procesos estocásticos\n",
    "\n",
    "- Caracterizado por muestreo aleatorio repetido.\n",
    "- Nos da una solución aproximada.\n",
    "- Puede ayudar a resolver problemas complejos.\n",
    "\n",
    "## Pasos de simulación:\n",
    "\n",
    "1. Definir posibles resultados para variables aleatorias\n",
    "2. Asignar posibilidades.\n",
    "3. Definir relaciones entre variables aleatorias.\n",
    "4. Obtenga múltiples resultados mediante muestreo repetido.\n",
    "5. Analice los resultados de la muestra."
   ]
  },
  {
   "cell_type": "markdown",
   "metadata": {},
   "source": [
    "### Sacar pares\n",
    "\n",
    "Jugar parqués propone un primer reto para todos los jugadores, sacar pares para poder salir de la carcel. Este inocente hecho lo retrataremos en un modelo de simulación, seguiremos los pasos descritos anteriormente para entender las probabilidades y posibilidades alrededor el juego. \n",
    "\n",
    "En primer lugar debemos entender que la base del proceso de simulación implica un muestreo aleatorio repetido. El primer paso que se refiere a crear una muestra aleatoria consiste en pensar en el lanzamiento de un dado:"
   ]
  },
  {
   "cell_type": "code",
   "execution_count": null,
   "metadata": {},
   "outputs": [],
   "source": [
    "p = 1/6\n",
    "dado, probabilidades, lanzamientos = [1,2,3,4,5,6], [p]*6, 1\n",
    "\n",
    "# Use np.random.choice to throw the die once and record the outcome\n",
    "outcome = np.random.choice(dado, size=lanzamientos, p=probabilidades)\n",
    "print(\"Salida del lanzamiento: {}\".format(outcome[0]))"
   ]
  },
  {
   "cell_type": "markdown",
   "metadata": {},
   "source": [
    "Observe que el vector de probabilidades se asignan valores justos en la salida del dado. En este sentido podemos manipular las probabilidades del ejercicio. Completamos entonces el paso 2. Ahora vamos a definir la relación entre variables aleatorias.\n",
    "\n",
    "Muchas veces, nuestra simulación involucrará no solo una, sino múltiples variables aleatorias. Considere un juego en el que le tira dos dados y gana si cada dado muestra el mismo número. Aquí tenemos dos variables aleatorias - los dos dados - y una relación entre cada una de ellas - ganamos si muestran el mismo número, perdemos si no. En realidad, la relación entre variables aleatorias puede ser mucho más compleja, no obstante resolveremos lo que nos propone el diagrama:\n",
    "\n",
    "\n",
    "\n",
    "![dice_sim](img/dice_sim.png)"
   ]
  },
  {
   "cell_type": "code",
   "execution_count": null,
   "metadata": {},
   "outputs": [],
   "source": [
    "dado, probabilidades, num_dados = [1,2,3,4,5,6], [1/6, 1/6, 1/6, 1/6, 1/6, 1/6], 2\n",
    "outcomes = np.random.choice(dado, size=num_dados, p=probabilidades) \n",
    "\n",
    "if outcomes[0] == outcomes[1]: \n",
    "    answer = '¡Pares!' \n",
    "else:\n",
    "    answer = 'Sigue intentando.'\n",
    "\n",
    "print(\"Los dados muestran {} y {}. {}\".format(outcomes[0], outcomes[1], answer))"
   ]
  },
  {
   "cell_type": "markdown",
   "metadata": {},
   "source": [
    "Si bien ya somos aptos para crear el juego de sacar pares aún hace falta simular varias opiciones para establecer probabilidades de ganar este juego.\n",
    "\n",
    "**Ejercicio 6**\n",
    "\n",
    "¿Cuál es la probabilidad de sacr pares?\n",
    "\n",
    "**Ejercicio 7**\n",
    "\n",
    "Simule varios juegos de pares y verifique que la probabilidad anterior es correcta."
   ]
  },
  {
   "cell_type": "markdown",
   "metadata": {},
   "source": [
    "# Usando la simulación en toma de decisiones\n",
    "\n",
    "Según lo anterior, el proceso de simulación se simplifica en el siguiente flujo:\n",
    "\n",
    "![simulation workflow](img/sim_workflow.png)"
   ]
  },
  {
   "cell_type": "markdown",
   "metadata": {},
   "source": [
    "Aquí:\n",
    "- Pasos 1 y 2: definir los resultados de las variables aleatorias y asignar las probabilidades.\n",
    "- Paso 3: Definir la relación entre los parámetros del modelo.\n",
    "- Paso 4: muestrear repetidamente las distribuciones A y B para generar resultados.\n",
    "- Paso 5: Analizar los resultados.\n",
    "\n",
    "Utilicemos algunas simulaciones para tomar decisiones."
   ]
  },
  {
   "cell_type": "markdown",
   "metadata": {},
   "source": [
    "**Simulando un sorteo de lotería**\n",
    "\n",
    "Ejecutaremos una simulación completa, tomaremos una decisión basada en nuestros resultados observados y aprenderemos a modificar las entradas al modelo de simulación.\n",
    "\n",
    "En este caso veremos si queremos o no comprar un boleto de lotería. Suponga que tiene la oportunidad de comprar un boleto de lotería que le da una oportunidad de ganar un gran premio de $\\$ $ 1 millón. Como hay 1000 boletos en total, su probabilidad de ganar es de 1 en 1000. Cada boleto cuesta  $\\$ $ 10. Usemos nuestra comprensión de las simulaciones básicas para simular primero un sorteo de la lotería."
   ]
  },
  {
   "cell_type": "markdown",
   "metadata": {},
   "source": [
    "**Ejercicio 8**\n",
    "\n",
    "Explique el siguiente código, indique lo que almacena\n",
    "\n",
    "- `gains`\n",
    "- `probability`\n",
    "- `outcome`\n"
   ]
  },
  {
   "cell_type": "code",
   "execution_count": null,
   "metadata": {
    "tags": []
   },
   "outputs": [],
   "source": [
    "lottery_ticket_cost, num_tickets, grand_prize = 10, 1000, 1000000\n",
    "\n",
    "# Probability of winning\n",
    "chance_of_winning = 1/num_tickets\n",
    "\n",
    "# Code to simulate a single drawing of the lottery\n",
    "gains = [-lottery_ticket_cost, grand_prize-lottery_ticket_cost]\n",
    "probability = [1-chance_of_winning, chance_of_winning]\n",
    "outcome = np.random.choice(a=gains, size=1, p=probability, replace=True)\n",
    "\n",
    "print(\"La ganancia de un juego de lotería es {}\".format(outcome))"
   ]
  },
  {
   "cell_type": "markdown",
   "metadata": {},
   "source": [
    "## ¿Deberíamos comprar?\n",
    "En el último ejercicio, simulamos el sorteo aleatorio del billete de lotería una vez. En este ejercicio, completamos el proceso de simulación repitiendo el proceso varias veces.\n",
    "\n",
    "Repetir el proceso nos da múltiples resultados. Podemos pensar en esto como múltiples universos donde ocurrió el mismo sorteo de lotería. Luego, podemos determinar las ganancias promedio en todos estos universos. Si las ganancias promedio son mayores de lo que pagamos por el boleto, entonces tiene sentido comprarlo, de lo contrario, es posible que no queramos comprar el boleto.\n",
    "\n",
    "Normalmente, así es como se utilizan las simulaciones para evaluar las inversiones comerciales. Después de completar este ejercicio, tendrá las herramientas básicas necesarias para utilizar simulaciones para la toma de decisiones."
   ]
  },
  {
   "cell_type": "code",
   "execution_count": null,
   "metadata": {},
   "outputs": [],
   "source": [
    "# Initialize size and simulate outcome\n",
    "lottery_ticket_cost, num_tickets, grand_prize = 10, 1000, 1000000\n",
    "chance_of_winning = 1/num_tickets\n",
    "size = 2000\n",
    "payoffs = [-lottery_ticket_cost, grand_prize-lottery_ticket_cost]\n",
    "probs = [1-chance_of_winning, chance_of_winning]\n",
    "\n",
    "outcomes = np.random.choice(a=payoffs, size=size, p=probs, replace=True)\n",
    "\n",
    "# Mean of outcomes.\n",
    "answer = np.mean(outcomes)\n",
    "print(\"Pago promedio de {} simulaciones = {}\".format(size, answer))"
   ]
  },
  {
   "cell_type": "markdown",
   "metadata": {},
   "source": [
    "**Ejercicio 9**\n",
    "\n",
    "¿Qué visualizaciones son adecuadas para indicar los resultados de esta simulación?"
   ]
  },
  {
   "cell_type": "markdown",
   "metadata": {},
   "source": [
    "## Calculando un precio de lotería de equilibrio\n",
    "Las simulaciones nos permiten hacer preguntas más matizadas que no necesariamente tienen una solución analítica fácil. En lugar de resolver una fórmula matemática compleja, obtenemos directamente múltiples resultados de muestra. Podemos realizar experimentos modificando las entradas y estudiando cómo esos cambios impactan en el sistema. Por ejemplo, una vez que tengamos un modelo moderadamente razonable de patrones climáticos globales, podríamos evaluar el impacto del aumento de las emisiones de gases de efecto invernadero.\n",
    "\n",
    "En el ejemplo de la lotería, es posible que deseemos saber qué tan caro debe ser el boleto para que no tenga sentido comprarlo. Para entender esto, necesitamos modificar el costo del boleto para ver cuándo la recompensa esperada es negativa."
   ]
  },
  {
   "cell_type": "code",
   "execution_count": null,
   "metadata": {},
   "outputs": [],
   "source": [
    "sims, lottery_ticket_cost = 10000, 0\n",
    "\n",
    "\n",
    "while 1:\n",
    "    outcomes = np.random.choice([-lottery_ticket_cost, grand_prize-lottery_ticket_cost],\n",
    "                 size=sims, p=[1-chance_of_winning, chance_of_winning], replace=True)\n",
    "    if outcomes.mean() < 0:\n",
    "        break\n",
    "    else:\n",
    "        lottery_ticket_cost += 1\n",
    "answer = lottery_ticket_cost - 1\n",
    "\n",
    "print(\"El precio más alto al que tiene sentido comprar el boleto es {}\".format(answer))"
   ]
  },
  {
   "cell_type": "markdown",
   "metadata": {},
   "source": [
    "**Ejercicio 10**\n",
    "\n",
    "¿Cómo innterpreta el rendimiento de las anteriores simulaciones? ¿Basta con esa cantidad? ¿Que pasa si se vuelve a corrr la celda anterior? ¿Se puede mejorar los resultados de este ejercicio?"
   ]
  }
 ],
 "metadata": {
  "kernelspec": {
   "display_name": "Python 3 (ipykernel)",
   "language": "python",
   "name": "python3"
  },
  "language_info": {
   "codemirror_mode": {
    "name": "ipython",
    "version": 3
   },
   "file_extension": ".py",
   "mimetype": "text/x-python",
   "name": "python",
   "nbconvert_exporter": "python",
   "pygments_lexer": "ipython3",
   "version": "3.9.7"
  }
 },
 "nbformat": 4,
 "nbformat_minor": 4
}
