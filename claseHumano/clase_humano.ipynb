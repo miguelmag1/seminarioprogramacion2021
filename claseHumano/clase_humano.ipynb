{
 "cells": [
  {
   "cell_type": "code",
   "execution_count": 1,
   "id": "6057364c",
   "metadata": {},
   "outputs": [],
   "source": [
    "class Humano(): #Creamos la clase Humano\n",
    "#creating the human class\n",
    "\n",
    "\n",
    "    def __init__(self,nombre,fecha,n_padre,n_madre, genero,peso, estatura,color_pelo,ojos,edad,ocupacion,hoy): #\n",
    "        self.nombre=nombre #definiendo el atributo nombre, será el nombre del humano\n",
    "        #defining the attribute name, it will be the name of the human\n",
    "        \n",
    "        self.fecha= fecha #definiendo el atributo nacimiento, será la fecha de nacimiento del humano definida como (año, mes, dia)\n",
    "        #defining the birth attribute, it will be the human's date of birth \n",
    "        \n",
    "        self.n_padre=n_padre #definiendo el atributo nombre del padre \"n_padre\", será el nombre del padre del humano\n",
    "        #defining the father's name attribute \"n_padre\", it will be the name of the human's father \n",
    "        \n",
    "        self.n_madre=n_madre #definiendo el atributo \"n_madre\", será el nombre de la madre del humano\n",
    "        #defining the attribute \"n_madre\", it will be the human mother's name \n",
    "        \n",
    "        self.genero= genero #definiendo el atributo genero, será el genero del humano\n",
    "        #defining the attribute \"gender\", it will be a human's gender \n",
    "        \n",
    "        self.peso = peso # definiedo el atributo peso, será el peso del humano \n",
    "        #defining the attribute \"peso\", it will be the human's weight\n",
    "        \n",
    "        self.estatura = estatura #definiendo el atributo estatura, será la estatura del humano\n",
    "        #defining the attribute \"hight\", it will be the human's hight\n",
    "        \n",
    "        self.color_pelo = color_pelo #definiendo el atributo \"pelo\", será el color del pelo del humano \n",
    "        #defining atributte 'pelo', it will be the human's hair color\n",
    "        \n",
    "        self.ojos= ojos # definiendo el atributo ojos\n",
    "        #defining atributte 'ojos', it will be the human's eyes color\n",
    "        \n",
    "        self.edad=edad # definiendo el atributo edad\n",
    "        #defining attribute 'edad', it will be the human's age \n",
    "        \n",
    "        self.ocupacion= ocupacion # definiendo el atributo ocupacion \n",
    "        #defining attribute 'ocupacion', it will be the human's occupation\n",
    "        \n",
    "        self.hoy=hoy #definiendo el atributo hoy, equivale a la fecha del dia de hoy definieda como (año,mes, dia)\n",
    "        #defining the attribute 'Hoy', it's  today's date defined as (year, month, day)\n",
    "\n",
    "        \n",
    "# MÉTODOS     \n",
    "# METHODS\n",
    "\n",
    "    def presentar(self):\n",
    "        '''Presenta al humano '''\n",
    "        presentacion = (\"Hola soy {name} mi edad es {age} soy {ocupation}\") #Mensaje\n",
    "        print(presentacion.format(name=self.nombre, age=self.edad, ocupation=self.ocupacion)) #Usamos FORMAT\n",
    "\n",
    "    def familia(self):\n",
    "        '''Dice los nombres de los padres del humano '''\n",
    "        f = (\"mi madre se llama {mother}, mi padre se llama {father} \") #Mensaje\n",
    "        print(f.format(mother=self.n_madre, father=self.n_padre)) #Usamos FORMAT\n",
    "\n",
    "    def describir(self):\n",
    "        '''describre fisicamente al humano'''\n",
    "        descripcion = (\"soy una persona de sexo {gender}, peso {weight}kg, mido {hight}, mi color de pelo es {hair}, mis ojos son de color {eyes}\") #Mensaje\n",
    "        print(descripcion.format(gender=self.genero, weight=self.peso, hight=self.estatura, hair=self.color_pelo,eyes= self.ojos)) #Usamos FORMAT\n",
    "\n",
    "    def  IMC(self):\n",
    "        \"\"\"Mide el indice de masa corporal\"\"\"\n",
    "        masa= self.peso/(self.estatura*self.estatura)\n",
    "        if masa <=18.5:\n",
    "            comentario =\"Bajo peso\"\n",
    "        elif masa>=18.5 and masa<=24.9:\n",
    "            comentario =\"Normal\"\n",
    "        elif masa>=25 and masa<=29.9:\n",
    "            comentario = \"Sobrepeso\"\n",
    "        elif masa>=30 and masa<=34.9:\n",
    "            comentario =\"Obesidad I\"\n",
    "\n",
    "        elif masa>=35 and masa<=39.9:\n",
    "            comentario =\"Obesidad II\"\n",
    "        elif masa>=40 and masa<=49.9:\n",
    "            comentario =\"Obesidad III\"\n",
    "        elif masa>50:\n",
    "            comentario =\"Obesidad VI\"\n",
    "        return(masa, comentario)\n",
    "        \n",
    "    def cumple_a(self):\n",
    "        '''Dice si el humano cumple o no años'''\n",
    "        if self.fecha[1]== self.hoy[1] and self.fecha[2]== self.hoy[2]:\n",
    "            self.edad=self.edad+1\n",
    "            print(\"Feliz cumpleaños {name}\".format(name=self.nombre),'cumples {year} años'.format(year=self.edad))\n",
    "        else:\n",
    "            print('hoy no cumples años, {name}'.format(name=self.nombre))\n",
    "\n"
   ]
  },
  {
   "cell_type": "code",
   "execution_count": 2,
   "id": "d1672250",
   "metadata": {},
   "outputs": [],
   "source": [
    "persona1=Humano('Miguel',(1995,6,4),'William','Camila','Masculino',65,1.75,'negro','cafe',26,'ingeniero',(2021,6,4))\n",
    "#nombre,fecha,n_padre,n_madre, genero,peso, estatura,color_pelo,ojos,edad,ocupacion,hoy"
   ]
  },
  {
   "cell_type": "code",
   "execution_count": 7,
   "id": "740101b2",
   "metadata": {},
   "outputs": [
    {
     "name": "stdout",
     "output_type": "stream",
     "text": [
      "Feliz cumpleaños Miguel cumples 27 años\n"
     ]
    }
   ],
   "source": [
    "persona1.cumple_a()"
   ]
  },
  {
   "cell_type": "code",
   "execution_count": 6,
   "id": "1b5467d6",
   "metadata": {},
   "outputs": [
    {
     "data": {
      "text/plain": [
       "(21.224489795918366, 'Normal')"
      ]
     },
     "execution_count": 6,
     "metadata": {},
     "output_type": "execute_result"
    }
   ],
   "source": [
    "persona1.IMC()"
   ]
  },
  {
   "cell_type": "code",
   "execution_count": 5,
   "id": "83dd431c",
   "metadata": {},
   "outputs": [
    {
     "name": "stdout",
     "output_type": "stream",
     "text": [
      "Hola soy Miguel mi edad es 26 soy ingeniero\n"
     ]
    }
   ],
   "source": [
    "persona1.presentar()"
   ]
  },
  {
   "cell_type": "code",
   "execution_count": 4,
   "id": "fd3ce22e",
   "metadata": {},
   "outputs": [
    {
     "name": "stdout",
     "output_type": "stream",
     "text": [
      "mi madre se llama Camila, mi padre se llama William \n"
     ]
    }
   ],
   "source": [
    "persona1.familia()"
   ]
  },
  {
   "cell_type": "code",
   "execution_count": 3,
   "id": "8abc2e73",
   "metadata": {},
   "outputs": [
    {
     "name": "stdout",
     "output_type": "stream",
     "text": [
      "soy una persona de sexo Masculino, peso 65kg, mido 1.75, mi color de pelo es negro, mis ojos son de color cafe\n"
     ]
    }
   ],
   "source": [
    "persona1.describir()"
   ]
  }
 ],
 "metadata": {
  "kernelspec": {
   "display_name": "Python 3",
   "language": "python",
   "name": "python3"
  },
  "language_info": {
   "codemirror_mode": {
    "name": "ipython",
    "version": 3
   },
   "file_extension": ".py",
   "mimetype": "text/x-python",
   "name": "python",
   "nbconvert_exporter": "python",
   "pygments_lexer": "ipython3",
   "version": "3.8.8"
  }
 },
 "nbformat": 4,
 "nbformat_minor": 5
}
